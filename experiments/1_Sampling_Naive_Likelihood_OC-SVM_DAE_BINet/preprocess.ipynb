{
 "cells": [
  {
   "cell_type": "markdown",
   "metadata": {},
   "source": [
    "# xes to json"
   ]
  },
  {
   "cell_type": "code",
   "execution_count": 1,
   "metadata": {},
   "outputs": [],
   "source": [
    "import os\n",
    "import itertools\n",
    "from tqdm import tqdm\n",
    "\n",
    "from april.fs import BPIC_DIR\n",
    "from april.fs import EVENTLOG_DIR\n",
    "from april.fs import EventLogFile\n",
    "from april.fs import get_event_log_files\n",
    "from april.generation import CategoricalAttributeGenerator\n",
    "from april.processmining.log import EventLog # except for bpic2020\n",
    "# from april.processmining_new.log import EventLog # for bpic2020\n",
    "\n",
    "\n",
    "from april.generation.anomaly import *\n",
    "# from april.generation.anomaly_new import *"
   ]
  },
  {
   "cell_type": "code",
   "execution_count": 2,
   "metadata": {},
   "outputs": [],
   "source": [
    "# xes_files = [\n",
    "#     'BPIC12.xes'\n",
    "#     'BPIC13_closed_problems.xes'\n",
    "#     'BPIC13_open_problems.xes'\n",
    "#     'BPIC13_incidents.xes'\n",
    "#     'BPIC17_offer_log.xes'\n",
    "#     'BPIC20_DomesticDeclarations.xes' # 1 \n",
    "#     'BPIC20_InternationalDeclarations.xes' # 2 \n",
    "#     'BPIC20_PermitLog.xes' # 3 \n",
    "#     'BPIC20_PrepaidTravelCost.xes' # 4 \n",
    "#     'BPIC20_RequestForPayment.xes' # 5 \n",
    "#     'Helpdesk.xes'\n",
    "#     'Sepsis_Cases.xes'\n",
    "# ]\n",
    "\n",
    "# json_files = [\n",
    "#     'bpic12-0.0-0.json.gz'\n",
    "#     'bpic13-0.0-1.json.gz'\n",
    "#     'bpic13-0.0-2.json.gz'\n",
    "#     'bpic13-0.0-3.json.gz'\n",
    "#     'bpic17-0.0-1.json.gz',\n",
    "#     'bpic20-0.0-1.json.gz' # domestic\n",
    "#     'bpic20-0.0-2.json.gz' # international\n",
    "#     'bpic20-0.0-3.json.gz'# PermitLog\n",
    "#     'bpic20-0.0-4.json.gz'# PrepaidTravelCost\n",
    "#     'bpic20-0.0-5.json.gz' # RequestForPayment\n",
    "#     'Helpdesk-0.0-1.json.gz'\n",
    "#     'SepsisCases-0.0-1.json.gz'\n",
    "# ]"
   ]
  },
  {
   "cell_type": "code",
   "execution_count": 13,
   "metadata": {},
   "outputs": [],
   "source": [
    "xes_files = [\n",
    "#     'BPIC12.xes'\n",
    "#     'BPIC13_closed_problems.xes',\n",
    "#     'BPIC13_incidents.xes',\n",
    "#     'BPIC13_open_problems.xes'\n",
    "#     'BPIC17_offer_log.xes',\n",
    "#     'BPIC20_DomesticDeclarations.xes', # 1 \n",
    "#     'BPIC20_InternationalDeclarations.xes', # 2 \n",
    "#     'BPIC20_PermitLog.xes', # 3 \n",
    "#     'BPIC20_PrepaidTravelCost.xes', # 4 \n",
    "#     'BPIC20_RequestForPayment.xes'# 5 \n",
    "#     'Helpdesk.xes',\n",
    "    'Sepsis_Cases.xes'\n",
    "]\n",
    "\n",
    "json_files = [\n",
    "#     'BPIC12-0.0-1.json.gz'\n",
    "#     'BPIC13_closed_problems-0.0-1.json.gz',\n",
    "#     'BPIC13_incidents-0.0-1.json.gz',\n",
    "#     'BPIC13_open_problems-0.0-1.json.gz'\n",
    "#     'bpic17-0.0-1.json.gz',\n",
    "#     'BPIC20Domestic-0.0-1.json.gz', # domestic\n",
    "#     'BPIC20International-0.0-1.json.gz', # international\n",
    "#     'BPIC20PermitLog-0.0-1.json.gz',# PermitLog\n",
    "#     'BPIC20PrepaidTravelCost-0.0-1.json.gz',# PrepaidTravelCost\n",
    "#     'BPIC20RequestForPayment-0.0-1.json.gz' # RequestForPayment\n",
    "#     'Helpdesk-0.0-1.json.gz',\n",
    "    'SepsisCases-0.0-1.json.gz'\n",
    "]"
   ]
  },
  {
   "cell_type": "code",
   "execution_count": 14,
   "metadata": {},
   "outputs": [
    {
     "name": "stderr",
     "output_type": "stream",
     "text": [
      "100%|████████████████████████████████████████████████████████████████████████████████████| 1/1 [00:01<00:00,  1.20s/it]\n"
     ]
    }
   ],
   "source": [
    "for xes_file, json_file in tqdm(list(zip(xes_files, json_files))):\n",
    "    event_log = EventLog.from_xes(os.path.join(BPIC_DIR, xes_file))\n",
    "    event_log.save_json(os.path.join(EVENTLOG_DIR, json_file))"
   ]
  },
  {
   "cell_type": "markdown",
   "metadata": {},
   "source": [
    "# inject anomalous data"
   ]
  },
  {
   "cell_type": "code",
   "execution_count": 15,
   "metadata": {},
   "outputs": [],
   "source": [
    "np.random.seed(0)  # This will ensure reproducibility\n",
    "# ps = [0.3]\n",
    "ps = [0.05] # 异常的比例：0.05 0.1 0.2 0.3"
   ]
  },
  {
   "cell_type": "code",
   "execution_count": 17,
   "metadata": {},
   "outputs": [
    {
     "name": "stdout",
     "output_type": "stream",
     "text": [
      "3 aprit-EventLogFile-init:self.model, self.p, self.id= BPIC13_open_problems 0.0 1\n",
      "3 aprit-EventLogFile-init:self.model, self.p, self.id= BPIC13_open_problems 0.05 1\n",
      "3 aprit-EventLogFile-init:self.model, self.p, self.id= BPIC20Domestic 0.05 1\n",
      "3 aprit-EventLogFile-init:self.model, self.p, self.id= BPIC20International 0.05 1\n",
      "3 aprit-EventLogFile-init:self.model, self.p, self.id= BPIC20PermitLog 0.05 1\n",
      "3 aprit-EventLogFile-init:self.model, self.p, self.id= BPIC20PrepaidTravelCost 0.05 1\n",
      "3 aprit-EventLogFile-init:self.model, self.p, self.id= BPIC20RequestForPayment 0.05 1\n",
      "3 aprit-EventLogFile-init:self.model, self.p, self.id= Helpdesk 0.05 1\n",
      "3 aprit-EventLogFile-init:self.model, self.p, self.id= SepsisCases 0.0 1\n"
     ]
    },
    {
     "data": {
      "text/plain": [
       "[WindowsPath('E:/Jupyter Notebook/Jupyter Notebook Project/Business Process Anomaly Detection/review_experiments_all/binet_five_test_from_reference/.out/eventlogs/SepsisCases-0.0-1.json.gz')]"
      ]
     },
     "execution_count": 17,
     "metadata": {},
     "output_type": "execute_result"
    }
   ],
   "source": [
    "# event_log_paths = [e.path for e in get_event_log_files(EVENTLOG_DIR) if e.p == 0.0]\n",
    "# event_log_paths = [e.path for e in get_event_log_files(EVENTLOG_DIR) if 'BPIC12' in e.name and e.p == 0.0]\n",
    "# event_log_paths = [e.path for e in get_event_log_files(EVENTLOG_DIR) if 'BPIC20' in e.name and e.p == 0.0]\n",
    "# event_log_paths = [e.path for e in get_event_log_files(EVENTLOG_DIR) if 'BPIC13' in e.name and e.p == 0.0]\n",
    "# event_log_paths = [e.path for e in get_event_log_files(EVENTLOG_DIR) if 'BPIC2012O' in e.name and e.p == 0.0]\n",
    "event_log_paths = [e.path for e in get_event_log_files(EVENTLOG_DIR) if 'SepsisCases' in e.name and e.p == 0.0]\n",
    "\n",
    "# event_log_paths = []\n",
    "# count = 0\n",
    "# for e in get_event_log_files(EVENTLOG_DIR):\n",
    "# #     print(e.path)\n",
    "#     count = count + 1\n",
    "#     if 'bpic13' in e.name and e.p == 0.0:\n",
    "#         event_log_paths.append(e.path)\n",
    "# # print(count)\n",
    "\n",
    "# event_log_paths = event_log_paths[-1:]\n",
    "\n",
    "# len(event_log_paths)\n",
    "event_log_paths"
   ]
  },
  {
   "cell_type": "code",
   "execution_count": 18,
   "metadata": {},
   "outputs": [
    {
     "data": {
      "text/plain": [
       "[(WindowsPath('E:/Jupyter Notebook/Jupyter Notebook Project/Business Process Anomaly Detection/review_experiments_all/binet_five_test_from_reference/.out/eventlogs/SepsisCases-0.0-1.json.gz'),\n",
       "  0.05)]"
      ]
     },
     "execution_count": 18,
     "metadata": {},
     "output_type": "execute_result"
    }
   ],
   "source": [
    "combinations = list(itertools.product(event_log_paths, ps))\n",
    "combinations"
   ]
  },
  {
   "cell_type": "code",
   "execution_count": 19,
   "metadata": {},
   "outputs": [
    {
     "name": "stderr",
     "output_type": "stream",
     "text": [
      "\r",
      "Add anomalies:   0%|                                                                             | 0/1 [00:00<?, ?it/s]"
     ]
    },
    {
     "name": "stdout",
     "output_type": "stream",
     "text": [
      "3 aprit-EventLogFile-init:self.model, self.p, self.id= SepsisCases 0.0 1\n"
     ]
    },
    {
     "name": "stderr",
     "output_type": "stream",
     "text": [
      "\n",
      "100%|███████████████████████████████████████████████████████████████████████████| 1050/1050 [00:00<00:00, 84377.88it/s]\u001b[A\n",
      "Add anomalies: 100%|█████████████████████████████████████████████████████████████████████| 1/1 [00:00<00:00,  1.17it/s]\n"
     ]
    }
   ],
   "source": [
    "for event_log_path, p in tqdm(combinations, desc='Add anomalies'):\n",
    "    event_log_file = EventLogFile(event_log_path)\n",
    "    event_log = EventLog.from_json(event_log_path)\n",
    "\n",
    "    anomalies = [\n",
    "        ReplaceAnomaly(max_replacements=2),\n",
    "        SkipSequenceAnomaly(max_sequence_size=1),\n",
    "        ReworkAnomaly(max_distance=5, max_sequence_size=3),\n",
    "        EarlyAnomaly(max_distance=5, max_sequence_size=2),\n",
    "        LateAnomaly(max_distance=5, max_sequence_size=2),\n",
    "        InsertAnomaly(max_inserts=2)\n",
    "    ]\n",
    "\n",
    "#     anomalies = [\n",
    "#         ReplaceAnomaly(max_replacements=2),\n",
    "#         SkipAnomaly(max_skips=1),\n",
    "#         ReworkAnomaly(max_distance=5, max_sequence_size=3),\n",
    "#         EarlyAnomaly(max_distance=5, max_sequence_size=2),\n",
    "#         LateAnomaly(max_distance=5, max_sequence_size=2),\n",
    "#         InsertAnomaly(max_inserts=2)\n",
    "#     ]\n",
    "\n",
    "#     for self-attention\n",
    "#     anomalies = [\n",
    "#         ReplaceAnomaly(max_replacements=1),\n",
    "#         SkipAnomaly(max_skips=1),\n",
    "#         ReworkAnomaly(max_distance=3, max_sequence_size=1),\n",
    "#         EarlyAnomaly(max_distance=1, max_sequence_size=1),\n",
    "#         LateAnomaly(max_distance=3, max_sequence_size=1), # 最多有一个活动延迟两步执行\n",
    "#         InsertAnomaly(max_inserts=1)\n",
    "#     ]\n",
    "\n",
    "    for anomaly in anomalies:\n",
    "        anomaly.activities = event_log.unique_activities\n",
    "\n",
    "    for case in tqdm(event_log):\n",
    "        if np.random.uniform(0, 1) <= p:\n",
    "            anomaly = np.random.choice(anomalies)\n",
    "            anomaly.apply_to_case(case)\n",
    "        else:\n",
    "            NoneAnomaly().apply_to_case(case)\n",
    "\n",
    "    event_log.save_json(str(EVENTLOG_DIR / f'{event_log_file.model}-{p}-{event_log_file.id}.json.gz'))"
   ]
  },
  {
   "cell_type": "markdown",
   "metadata": {},
   "source": [
    "# json to csv (for leverage)"
   ]
  },
  {
   "cell_type": "code",
   "execution_count": 20,
   "metadata": {},
   "outputs": [],
   "source": [
    "import gzip\n",
    "import json\n",
    "import pandas as pd\n",
    "import os\n",
    "from april.fs import EVENTLOG_DIR"
   ]
  },
  {
   "cell_type": "code",
   "execution_count": 21,
   "metadata": {},
   "outputs": [],
   "source": [
    "json_files = [\n",
    "#     'BPIC12-0.05-1.json.gz',\n",
    "#     'BPIC12-0.1-1.json.gz',\n",
    "#     'BPIC12-0.2-1.json.gz',\n",
    "#     'BPIC12-0.3-1.json.gz'\n",
    "#     'BPIC13_closed_problems-0.05-1.json.gz',\n",
    "#     'BPIC13_closed_problems-0.1-1.json.gz',\n",
    "#     'BPIC13_closed_problems-0.2-1.json.gz',\n",
    "#     'BPIC13_closed_problems-0.3-1.json.gz',\n",
    "#     'BPIC13_incidents-0.05-1.json.gz',\n",
    "#     'BPIC13_incidents-0.1-1.json.gz',\n",
    "#     'BPIC13_incidents-0.2-1.json.gz',\n",
    "#     'BPIC13_incidents-0.3-1.json.gz',\n",
    "#     'BPIC13_open_problems-0.05-1.json.gz'\n",
    "#     'BPIC13_open_problems-0.1-1.json.gz',\n",
    "#     'BPIC13_open_problems-0.2-1.json.gz',\n",
    "#     'BPIC13_open_problems-0.3-1.json.gz'\n",
    "#     'bpic12-0.3-0.json.gz',\n",
    "#     'bpic13-0.3-1.json.gz',\n",
    "#     'bpic13-0.3-2.json.gz',\n",
    "#     'bpic13-0.3-3.json.gz',\n",
    "#     'bpic17-0.3-1.json.gz',\n",
    "#     'bpic20-0.3-1.json.gz', # domestic\n",
    "#     'bpic20-0.3-2.json.gz', # international\n",
    "#     'bpic20-0.3-3.json.gz',# PermitLog\n",
    "#     'bpic20PrepaidTravelCost-0.2-1.json.gz',# PrepaidTravelCost bpic20-0.3-4.json.gz\n",
    "#     'bpic20-0.3-5.json.gz', # RequestForPayment\n",
    "#     'Helpdesk-0.3-1.json.gz',\n",
    "#     'SepsisCases-0.3-1.json.gz'\n",
    "#     'BPIC20Domestic-0.05-1.json.gz', \n",
    "#     'BPIC20International-0.05-1.json.gz', \n",
    "#     'BPIC20PermitLog-0.05-1.json.gz',\n",
    "#     'BPIC20PrepaidTravelCost-0.05-1.json.gz',\n",
    "#     'BPIC20RequestForPayment-0.05-1.json.gz',\n",
    "#     'BPIC20Domestic-0.1-1.json.gz', \n",
    "#     'BPIC20International-0.1-1.json.gz', \n",
    "#     'BPIC20PermitLog-0.1-1.json.gz',\n",
    "#     'BPIC20PrepaidTravelCost-0.1-1.json.gz',\n",
    "#     'BPIC20RequestForPayment-0.1-1.json.gz',\n",
    "#     'BPIC20Domestic-0.2-1.json.gz', \n",
    "#     'BPIC20International-0.2-1.json.gz', \n",
    "#     'BPIC20PermitLog-0.2-1.json.gz',\n",
    "#     'BPIC20PrepaidTravelCost-0.2-1.json.gz',\n",
    "#     'BPIC20RequestForPayment-0.2-1.json.gz',\n",
    "#     'BPIC20Domestic-0.3-1.json.gz', \n",
    "#     'BPIC20International-0.3-1.json.gz', \n",
    "#     'BPIC20PermitLog-0.3-1.json.gz'\n",
    "#     'BPIC20PrepaidTravelCost-0.3-1.json.gz',\n",
    "#     'BPIC20RequestForPayment-0.3-1.json.gz'\n",
    "#     'SepsisCases-0.2-1.json.gz',\n",
    "#     'Helpdesk-0.2-1.json.gz',\n",
    "#     'SepsisCases-0.3-1.json.gz',\n",
    "#     'Helpdesk-0.3-1.json.gz'\n",
    "    'SepsisCases-0.05-1.json.gz'\n",
    "]\n",
    "csv_files = [\n",
    "#     'BPIC12-0.05-1.csv',\n",
    "#     'BPIC12-0.1-1.csv',\n",
    "#     'BPIC12-0.2-1.csv',\n",
    "#     'BPIC12-0.3-1.csv'\n",
    "#     'BPIC13_closed_problems-0.05-1.csv',\n",
    "#     'BPIC13_closed_problems-0.1-1.csv',\n",
    "#     'BPIC13_closed_problems-0.2-1.csv',\n",
    "#     'BPIC13_closed_problems-0.3-1.csv',\n",
    "#     'BPIC13_incidents-0.05-1.csv',\n",
    "#     'BPIC13_incidents-0.1-1.csv',\n",
    "#     'BPIC13_incidents-0.2-1.csv',\n",
    "#     'BPIC13_incidents-0.3-1.csv',\n",
    "#     'BPIC13_open_problems-0.05-1.csv'\n",
    "#     'BPIC13_open_problems-0.1-1.csv',\n",
    "#     'BPIC13_open_problems-0.2-1.csv',\n",
    "#     'BPIC13_open_problems-0.3-1.csv'\n",
    "#     'bpic12-0.3-1.csv' #\n",
    "#     'bpic13-0.3-1.csv',\n",
    "#     'bpic13-0.3-2.csv',\n",
    "#     'bpic13-0.3-3.csv',\n",
    "#     'bpic20-0.3-1.csv',\n",
    "#     'bpic20-0.3-2.csv',\n",
    "#     'bpic20-0.3-3.csv',\n",
    "#     'bpic20-0.3-4.csv',\n",
    "#     'bpic20-0.3-5.csv',\n",
    "#     'Helpdesk-0.3-0.csv',\n",
    "#     'BPIC2012O-0.2-1.csv'\n",
    "#     'BPIC20Domestic-0.05-1.csv', \n",
    "#     'BPIC20International-0.05-1.csv', \n",
    "#     'BPIC20PermitLog-0.05-1.csv',\n",
    "#     'BPIC20PrepaidTravelCost-0.05-1.csv',\n",
    "#     'BPIC20RequestForPayment-0.05-1.csv',\n",
    "#     'BPIC20Domestic-0.1-1.csv', \n",
    "#     'BPIC20International-0.1-1.csv', \n",
    "#     'BPIC20PermitLog-0.1-1.csv',\n",
    "#     'BPIC20PrepaidTravelCost-0.1-1.csv',\n",
    "#     'BPIC20RequestForPayment-0.1-1.csv',\n",
    "#     'BPIC20Domestic-0.2-1.csv', \n",
    "#     'BPIC20International-0.2-1.csv', \n",
    "#     'BPIC20PermitLog-0.2-1.csv',\n",
    "#     'BPIC20PrepaidTravelCost-0.2-1.csv',\n",
    "#     'BPIC20RequestForPayment-0.2-1.csv',\n",
    "#     'BPIC20Domestic-0.3-1.csv', \n",
    "#     'BPIC20International-0.3-1.csv', \n",
    "#     'BPIC20PermitLog-0.3-1.csv'\n",
    "#     'BPIC20PrepaidTravelCost-0.3-1.csv',\n",
    "#     'BPIC20RequestForPayment-0.3-1.csv'\n",
    "#     'SepsisCases-0.2-1.csv',\n",
    "#     'Helpdesk-0.2-1.csv',\n",
    "#     'SepsisCases-0.3-1.csv',\n",
    "#     'Helpdesk-0.3-1.csv'\n",
    "    'SepsisCases-0.05-1.csv'\n",
    "]"
   ]
  },
  {
   "cell_type": "code",
   "execution_count": 22,
   "metadata": {},
   "outputs": [
    {
     "name": "stderr",
     "output_type": "stream",
     "text": [
      "100%|████████████████████████████████████████████████████████████████████████████████████| 1/1 [00:27<00:00, 27.69s/it]\n"
     ]
    }
   ],
   "source": [
    "\n",
    "for json_file, csv_file in tqdm(list(zip(json_files, csv_files))):\n",
    "    with gzip.GzipFile(os.path.join(EVENTLOG_DIR, json_file), 'r') as fin:    # 4. gzip\n",
    "        json_bytes = fin.read()                      # 3. bytes (i.e. UTF-8)\n",
    "    json_str = json_bytes.decode('utf-8')            # 2. string (i.e. JSON)\n",
    "    data = json.loads(json_str)                      # 1. data\n",
    "    df= pd.DataFrame()\n",
    "    for case in data['cases']:\n",
    "        pos=0\n",
    "        for e in case['events']:\n",
    "            pos+=1\n",
    "            event = pd.DataFrame([{'caseid':case['id'], 'order':pos,**case['attributes'],'name':e['name'], 'timestamp':e['timestamp']}])\n",
    "            event = pd.DataFrame([{'order':pos,**case['attributes'],'caseid':case['id'], 'name':e['name'], 'timestamp':e['timestamp']}])\n",
    "            df=df.append(event, ignore_index=True)\n",
    "    df.to_csv(os.path.join(EVENTLOG_DIR, csv_file) ,index=False)"
   ]
  },
  {
   "cell_type": "markdown",
   "metadata": {},
   "source": [
    "# rubbish"
   ]
  },
  {
   "cell_type": "code",
   "execution_count": 31,
   "metadata": {},
   "outputs": [],
   "source": [
    "# json_files = [\n",
    "# #     'bpic20-0.3-1.json.gz' # domestic\n",
    "# #     'bpic20-0.3-2.json.gz' # international\n",
    "#     # 'bpic19-0.3-0.json.gz',\n",
    "# #     'bpic13-0.3-0.json.gz'\n",
    "# #     'bpic13-0.3-1.json.gz'\n",
    "#     'bpic13-0.3-2.json.gz'\n",
    "# #     'bpic13-0.3-3.json.gz',\n",
    "# #     'bpic15-0.3-1.json.gz',\n",
    "# #     'bpic15-0.3-2.json.gz',\n",
    "# #     'bpic15-0.3-3.json.gz',\n",
    "# #     'bpic15-0.3-4.json.gz',\n",
    "# #     'bpic15-0.3-5.json.gz',\n",
    "# #     'bpic12-0.3-0.json.gz',\n",
    "# #     'bpic17-0.3-1.json.gz',\n",
    "# #     'bpic17-0.3-2.json.gz'\n",
    "# ]\n",
    "\n",
    "# csv_files = [\n",
    "# #     'bpic20-0.3-1.csv' # domestic\n",
    "#     # 'bpic19-0.3-0.csv',\n",
    "# #     'bpic13-0.3-0.csv'\n",
    "# #     'bpic13-0.3-1.csv'\n",
    "#     'bpic13-0.3-2.csv'\n",
    "# #     'bpic13-0.3-3.csv'\n",
    "# #     'bpic15-0.3-1.csv',\n",
    "# #     'bpic15-0.3-2.csv',\n",
    "# #     'bpic15-0.3-3.csv',\n",
    "# #     'bpic15-0.3-4.csv',\n",
    "# #     'bpic15-0.3-5.csv',\n",
    "# #     'bpic12-0.3-0.csv',\n",
    "# #     'bpic17-0.3-1.csv',\n",
    "# #     'bpic17-0.3-2.csv'\n",
    "# ]"
   ]
  }
 ],
 "metadata": {
  "kernelspec": {
   "display_name": "binet",
   "language": "python",
   "name": "binet"
  },
  "language_info": {
   "codemirror_mode": {
    "name": "ipython",
    "version": 3
   },
   "file_extension": ".py",
   "mimetype": "text/x-python",
   "name": "python",
   "nbconvert_exporter": "python",
   "pygments_lexer": "ipython3",
   "version": "3.6.13"
  },
  "toc": {
   "base_numbering": 1,
   "nav_menu": {},
   "number_sections": true,
   "sideBar": true,
   "skip_h1_title": false,
   "title_cell": "Table of Contents",
   "title_sidebar": "Contents",
   "toc_cell": false,
   "toc_position": {},
   "toc_section_display": true,
   "toc_window_display": true
  }
 },
 "nbformat": 4,
 "nbformat_minor": 4
}
